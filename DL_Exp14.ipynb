{
  "nbformat": 4,
  "nbformat_minor": 0,
  "metadata": {
    "colab": {
      "provenance": [],
      "authorship_tag": "ABX9TyOpHC2oG3sHNK9gSruSTFAq",
      "include_colab_link": true
    },
    "kernelspec": {
      "name": "python3",
      "display_name": "Python 3"
    },
    "language_info": {
      "name": "python"
    }
  },
  "cells": [
    {
      "cell_type": "markdown",
      "metadata": {
        "id": "view-in-github",
        "colab_type": "text"
      },
      "source": [
        "<a href=\"https://colab.research.google.com/github/MuskanSharma-22CSU123/LabManual_DeepLearning/blob/main/DL_Exp14.ipynb\" target=\"_parent\"><img src=\"https://colab.research.google.com/assets/colab-badge.svg\" alt=\"Open In Colab\"/></a>"
      ]
    },
    {
      "cell_type": "code",
      "execution_count": null,
      "metadata": {
        "colab": {
          "base_uri": "https://localhost:8080/"
        },
        "id": "iv9Hc92SiKn4",
        "outputId": "809589df-b27a-44ad-e399-6c651b63f930"
      },
      "outputs": [
        {
          "output_type": "stream",
          "name": "stderr",
          "text": [
            "[nltk_data] Downloading package punkt to /root/nltk_data...\n",
            "[nltk_data]   Package punkt is already up-to-date!\n",
            "[nltk_data] Downloading package stopwords to /root/nltk_data...\n",
            "[nltk_data]   Package stopwords is already up-to-date!\n",
            "[nltk_data] Downloading package wordnet to /root/nltk_data...\n",
            "[nltk_data]   Package wordnet is already up-to-date!\n",
            "[nltk_data] Downloading package omw-1.4 to /root/nltk_data...\n",
            "[nltk_data]   Package omw-1.4 is already up-to-date!\n",
            "[nltk_data] Downloading package averaged_perceptron_tagger to\n",
            "[nltk_data]     /root/nltk_data...\n",
            "[nltk_data]   Package averaged_perceptron_tagger is already up-to-\n",
            "[nltk_data]       date!\n"
          ]
        },
        {
          "output_type": "stream",
          "name": "stdout",
          "text": [
            "[NLTK] Tokenize & Stem: ['natur', 'languag', 'process', '(', 'nlp', ')', 'is', 'fascin', '.']\n",
            "[NLTK] Lemmatize & Remove Stopwords: ['tokenization', 'stemming', 'lemmatization', 'crucial', 'step']\n",
            "[spaCy] Lemmatize & Remove Stopwords: ['Tokenization', 'stemming', 'lemmatization', 'crucial', 'step']\n",
            "\n",
            "Bag-of-Words feature names: ['and' 'are' 'crucial' 'fascinating' 'is' 'language' 'lemmatization'\n",
            " 'natural' 'nlp' 'processing' 'stemming' 'steps' 'tokenization']\n",
            "\n",
            "Bag-of-n-grams (1-3) feature names: ['and' 'and lemmatization' 'and lemmatization are' 'are' 'are crucial'\n",
            " 'are crucial steps' 'crucial' 'crucial steps' 'fascinating' 'is'\n",
            " 'is fascinating' 'language' 'language processing'\n",
            " 'language processing nlp' 'lemmatization' 'lemmatization are'\n",
            " 'lemmatization are crucial' 'natural' 'natural language'\n",
            " 'natural language processing' 'nlp' 'nlp is' 'nlp is fascinating'\n",
            " 'processing' 'processing nlp' 'processing nlp is' 'stemming'\n",
            " 'stemming and' 'stemming and lemmatization' 'steps' 'tokenization'\n",
            " 'tokenization stemming' 'tokenization stemming and']\n",
            "\n",
            "TF-IDF feature names: ['and' 'are' 'crucial' 'fascinating' 'is' 'language' 'lemmatization'\n",
            " 'natural' 'nlp' 'processing' 'stemming' 'steps' 'tokenization']\n"
          ]
        }
      ],
      "source": [
        "import nltk\n",
        "from nltk.tokenize import word_tokenize\n",
        "from nltk.stem import PorterStemmer, WordNetLemmatizer\n",
        "from nltk.corpus import stopwords\n",
        "import spacy\n",
        "from sklearn.feature_extraction.text import CountVectorizer, TfidfVectorizer\n",
        "\n",
        "# Ensure necessary NLTK resources are downloaded\n",
        "nltk.download('punkt')\n",
        "nltk.download('stopwords')\n",
        "nltk.download('wordnet')\n",
        "nltk.download('omw-1.4')\n",
        "nltk.download('averaged_perceptron_tagger')\n",
        "\n",
        "# Part A: Tokenization and Stemming using NLTK\n",
        "\n",
        "def tokenize_and_stem(text):\n",
        "    \"\"\"\n",
        "    Tokenizes the input text and returns a list of stemmed tokens.\n",
        "    \"\"\"\n",
        "    tokens = word_tokenize(text)\n",
        "    stemmer = PorterStemmer()\n",
        "    return [stemmer.stem(token) for token in tokens]\n",
        "\n",
        "# Part B: Lemmatization and Stopwords Removal using NLTK\n",
        "\n",
        "def lemmatize_and_remove_stopwords_nltk(text):\n",
        "    \"\"\"\n",
        "    Tokenizes the text, removes English stopwords, and returns a list of lemmas.\n",
        "    \"\"\"\n",
        "    tokens = word_tokenize(text)\n",
        "    lemmatizer = WordNetLemmatizer()\n",
        "    stop_words = set(stopwords.words('english'))\n",
        "    return [lemmatizer.lemmatize(token.lower())\n",
        "            for token in tokens\n",
        "            if token.isalpha() and token.lower() not in stop_words]\n",
        "\n",
        "# Part C: Lemmatization and Stopwords Removal using spaCy\n",
        "\n",
        "nlp = spacy.load('en_core_web_sm')\n",
        "\n",
        "def lemmatize_and_remove_stopwords_spacy(text):\n",
        "    \"\"\"\n",
        "    Processes the text with spaCy, removes stopwords and punctuation,\n",
        "    and returns a list of token lemmas.\n",
        "    \"\"\"\n",
        "    doc = nlp(text)\n",
        "    return [token.lemma_ for token in doc\n",
        "            if not token.is_stop and not token.is_punct]\n",
        "\n",
        "# Part D: Bag-of-Words using CountVectorizer\n",
        "\n",
        "def bag_of_words_count(texts, max_features=None):\n",
        "    \"\"\"\n",
        "    Fits a CountVectorizer on the list of texts and returns\n",
        "    the feature matrix and vectorizer instance.\n",
        "    \"\"\"\n",
        "    vectorizer = CountVectorizer(max_features=max_features)\n",
        "    X = vectorizer.fit_transform(texts)\n",
        "    return X, vectorizer\n",
        "\n",
        "# Part E: Bag-of-n-grams using CountVectorizer\n",
        "\n",
        "def bag_of_ngrams_count(texts, n_range=(1, 2), max_features=None):\n",
        "    \"\"\"\n",
        "    Fits a CountVectorizer that captures n-grams in the specified range\n",
        "    and returns the feature matrix and vectorizer instance.\n",
        "    \"\"\"\n",
        "    vectorizer = CountVectorizer(ngram_range=n_range, max_features=max_features)\n",
        "    X = vectorizer.fit_transform(texts)\n",
        "    return X, vectorizer\n",
        "\n",
        "# Part F: TF-IDF Bag-of-Words using TfidfVectorizer\n",
        "\n",
        "def bag_of_words_tfidf(texts, max_features=None):\n",
        "    \"\"\"\n",
        "    Fits a TfidfVectorizer on the list of texts and returns\n",
        "    the TF-IDF feature matrix and vectorizer instance.\n",
        "    \"\"\"\n",
        "    vectorizer = TfidfVectorizer(max_features=max_features)\n",
        "    X = vectorizer.fit_transform(texts)\n",
        "    return X, vectorizer\n",
        "\n",
        "# Example usage\n",
        "def main():\n",
        "    sample_texts = [\n",
        "        \"Natural Language Processing (NLP) is fascinating.\",\n",
        "        \"Tokenization, stemming, and lemmatization are crucial steps.\"\n",
        "    ]\n",
        "\n",
        "    # Preprocessing examples\n",
        "    print(\"[NLTK] Tokenize & Stem:\", tokenize_and_stem(sample_texts[0]))\n",
        "    print(\"[NLTK] Lemmatize & Remove Stopwords:\", lemmatize_and_remove_stopwords_nltk(sample_texts[1]))\n",
        "    print(\"[spaCy] Lemmatize & Remove Stopwords:\", lemmatize_and_remove_stopwords_spacy(sample_texts[1]))\n",
        "\n",
        "    # Vectorization examples\n",
        "    X_bow, bow_vec = bag_of_words_count(sample_texts)\n",
        "    print(\"\\nBag-of-Words feature names:\", bow_vec.get_feature_names_out())\n",
        "\n",
        "    X_ngrams, ngram_vec = bag_of_ngrams_count(sample_texts, n_range=(1, 3))\n",
        "    print(\"\\nBag-of-n-grams (1-3) feature names:\", ngram_vec.get_feature_names_out())\n",
        "\n",
        "    X_tfidf, tfidf_vec = bag_of_words_tfidf(sample_texts)\n",
        "    print(\"\\nTF-IDF feature names:\", tfidf_vec.get_feature_names_out())\n",
        "\n",
        "if __name__ == '__main__':\n",
        "    main()\n"
      ]
    },
    {
      "cell_type": "code",
      "source": [],
      "metadata": {
        "id": "C0jTTC7ri9h-"
      },
      "execution_count": null,
      "outputs": []
    }
  ]
}