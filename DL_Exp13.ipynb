{
  "nbformat": 4,
  "nbformat_minor": 0,
  "metadata": {
    "colab": {
      "provenance": [],
      "authorship_tag": "ABX9TyOQDLGb40xKq84XiY2IqAlO",
      "include_colab_link": true
    },
    "kernelspec": {
      "name": "python3",
      "display_name": "Python 3"
    },
    "language_info": {
      "name": "python"
    }
  },
  "cells": [
    {
      "cell_type": "markdown",
      "metadata": {
        "id": "view-in-github",
        "colab_type": "text"
      },
      "source": [
        "<a href=\"https://colab.research.google.com/github/MuskanSharma-22CSU123/LabManual_DeepLearning/blob/main/DL_Exp13.ipynb\" target=\"_parent\"><img src=\"https://colab.research.google.com/assets/colab-badge.svg\" alt=\"Open In Colab\"/></a>"
      ]
    },
    {
      "cell_type": "code",
      "execution_count": null,
      "metadata": {
        "colab": {
          "base_uri": "https://localhost:8080/"
        },
        "id": "vR20AKfvhDM-",
        "outputId": "5b344411-dd8b-4038-a48f-c600f2d92b83"
      },
      "outputs": [
        {
          "output_type": "stream",
          "name": "stderr",
          "text": [
            "[nltk_data] Downloading package punkt to /root/nltk_data...\n",
            "[nltk_data]   Unzipping tokenizers/punkt.zip.\n",
            "[nltk_data] Downloading package stopwords to /root/nltk_data...\n",
            "[nltk_data]   Unzipping corpora/stopwords.zip.\n",
            "[nltk_data] Downloading package wordnet to /root/nltk_data...\n",
            "[nltk_data] Downloading package omw-1.4 to /root/nltk_data...\n",
            "[nltk_data] Downloading package averaged_perceptron_tagger to\n",
            "[nltk_data]     /root/nltk_data...\n",
            "[nltk_data]   Unzipping taggers/averaged_perceptron_tagger.zip.\n",
            "[nltk_data] Downloading package punkt_tab to /root/nltk_data...\n",
            "[nltk_data]   Unzipping tokenizers/punkt_tab.zip.\n"
          ]
        },
        {
          "output_type": "stream",
          "name": "stdout",
          "text": [
            "Original Text: Natural Language Processing (NLP) is a fascinating field of AI!\n",
            "\n",
            "[NLTK] Tokenize & Stem: ['natur', 'languag', 'process', '(', 'nlp', ')', 'is', 'a', 'fascin', 'field', 'of', 'ai', '!']\n",
            "\n",
            "[NLTK] Lemmatize & Remove Stopwords: ['natural', 'language', 'processing', 'nlp', 'fascinating', 'field', 'ai']\n",
            "\n",
            "[spaCy] Lemmatize & Remove Stopwords: ['Natural', 'Language', 'Processing', 'NLP', 'fascinating', 'field', 'AI']\n"
          ]
        }
      ],
      "source": [
        "import nltk\n",
        "from nltk.tokenize import word_tokenize\n",
        "from nltk.stem import PorterStemmer, WordNetLemmatizer\n",
        "from nltk.corpus import stopwords\n",
        "import spacy\n",
        "\n",
        "# Ensure necessary NLTK resources are downloaded\n",
        "nltk.download('punkt')\n",
        "nltk.download('stopwords')\n",
        "nltk.download('wordnet')\n",
        "nltk.download('omw-1.4')\n",
        "nltk.download('averaged_perceptron_tagger')\n",
        "# Download the 'punkt_tab' data package\n",
        "nltk.download('punkt_tab') # This line is added to download the missing data\n",
        "\n",
        "# Part A: Tokenization and Stemming using NLTK\n",
        "\n",
        "def tokenize_and_stem(text):\n",
        "    \"\"\"\n",
        "    Tokenizes the input text and returns a list of stemmed tokens.\n",
        "    \"\"\"\n",
        "    # Tokenize text into words\n",
        "    tokens = word_tokenize(text)\n",
        "    # Initialize the Porter Stemmer\n",
        "    stemmer = PorterStemmer()\n",
        "    # Stem each token\n",
        "    stemmed = [stemmer.stem(token) for token in tokens]\n",
        "    return stemmed\n",
        "\n",
        "# Part B: Lemmatization and Stopwords Removal using NLTK\n",
        "\n",
        "def lemmatize_and_remove_stopwords_nltk(text):\n",
        "    \"\"\"\n",
        "    Tokenizes the text, removes English stopwords, and returns a list of lemmas.\n",
        "    \"\"\"\n",
        "    # Tokenize text\n",
        "    tokens = word_tokenize(text)\n",
        "    # Initialize lemmatizer and stopwords list\n",
        "    lemmatizer = WordNetLemmatizer()\n",
        "    stop_words = set(stopwords.words('english'))\n",
        "    # Lowercase, remove stopwords, and lemmatize\n",
        "    lemmas = [lemmatizer.lemmatize(token.lower())\n",
        "              for token in tokens\n",
        "              if token.isalpha() and token.lower() not in stop_words]\n",
        "    return lemmas\n",
        "\n",
        "# Part C: Lemmatization and Stopwords Removal using spaCy\n",
        "\n",
        "# Load the English model. Make sure to install with:\n",
        "#   python -m spacy download en_core_web_sm\n",
        "nlp = spacy.load('en_core_web_sm')\n",
        "\n",
        "def lemmatize_and_remove_stopwords_spacy(text):\n",
        "    \"\"\"\n",
        "    Processes the text with spaCy, removes stopwords and punctuation,\n",
        "    and returns a list of token lemmas.\n",
        "    \"\"\"\n",
        "    doc = nlp(text)\n",
        "    cleaned = [token.lemma_ for token in doc\n",
        "               if not token.is_stop and not token.is_punct]\n",
        "    return cleaned\n",
        "\n",
        "# Example usage\n",
        "def main():\n",
        "    sample_text = \"Natural Language Processing (NLP) is a fascinating field of AI!\"\n",
        "    print(\"Original Text:\", sample_text)\n",
        "    print(\"\\n[NLTK] Tokenize & Stem:\", tokenize_and_stem(sample_text))\n",
        "    print(\"\\n[NLTK] Lemmatize & Remove Stopwords:\", lemmatize_and_remove_stopwords_nltk(sample_text))\n",
        "    print(\"\\n[spaCy] Lemmatize & Remove Stopwords:\", lemmatize_and_remove_stopwords_spacy(sample_text))\n",
        "\n",
        "if __name__ == '__main__':\n",
        "    main()"
      ]
    },
    {
      "cell_type": "code",
      "source": [],
      "metadata": {
        "id": "wrrz5KpLhICW"
      },
      "execution_count": null,
      "outputs": []
    }
  ]
}