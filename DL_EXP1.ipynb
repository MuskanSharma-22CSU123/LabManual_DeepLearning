{
  "cells": [
    {
      "cell_type": "markdown",
      "metadata": {
        "id": "view-in-github",
        "colab_type": "text"
      },
      "source": [
        "<a href=\"https://colab.research.google.com/github/MuskanSharma-22CSU123/LabManual_DeepLearning/blob/main/DL_EXP1.ipynb\" target=\"_parent\"><img src=\"https://colab.research.google.com/assets/colab-badge.svg\" alt=\"Open In Colab\"/></a>"
      ]
    },
    {
      "cell_type": "markdown",
      "metadata": {
        "id": "kPWAbzczcxy1"
      },
      "source": [
        "<img src=\"The-Northcap-University-NCU-logo.png\">"
      ]
    },
    {
      "cell_type": "markdown",
      "metadata": {
        "id": "zi3slJUxbB_B"
      },
      "source": [
        "\n",
        "## Static graph (TensorFlow 1.x) vs Eager execution (TensorFlow 2.0)\n",
        "\n",
        "![alt text](https://www.tensorflow.org/images/tensors_flowing.gif)\n",
        "*Image take from: https://www.tensorflow.org/guide/graphs*\n"
      ]
    },
    {
      "cell_type": "markdown",
      "metadata": {
        "id": "kqnQhKafgyZC"
      },
      "source": [
        "## TensorFlow 1.X"
      ]
    },
    {
      "cell_type": "markdown",
      "metadata": {
        "id": "SiauG1locQIa"
      },
      "source": [
        "\n",
        "\n",
        "\n",
        "### Installing TensorFlow 1.X\n",
        "\n"
      ]
    },
    {
      "cell_type": "code",
      "execution_count": null,
      "metadata": {
        "colab": {
          "base_uri": "https://localhost:8080/"
        },
        "id": "iVM4JRo8cJ0e",
        "outputId": "7f072b4c-8b9c-4531-91fe-2611212ccd4f"
      },
      "outputs": [
        {
          "output_type": "stream",
          "name": "stdout",
          "text": [
            "Collecting tensorflow-gpu\n",
            "  Downloading tensorflow-gpu-2.12.0.tar.gz (2.6 kB)\n",
            "  \u001b[1;31merror\u001b[0m: \u001b[1msubprocess-exited-with-error\u001b[0m\n",
            "  \n",
            "  \u001b[31m×\u001b[0m \u001b[32mpython setup.py egg_info\u001b[0m did not run successfully.\n",
            "  \u001b[31m│\u001b[0m exit code: \u001b[1;36m1\u001b[0m\n",
            "  \u001b[31m╰─>\u001b[0m See above for output.\n",
            "  \n",
            "  \u001b[1;35mnote\u001b[0m: This error originates from a subprocess, and is likely not a problem with pip.\n",
            "  Preparing metadata (setup.py) ... \u001b[?25l\u001b[?25herror\n",
            "\u001b[1;31merror\u001b[0m: \u001b[1mmetadata-generation-failed\u001b[0m\n",
            "\n",
            "\u001b[31m×\u001b[0m Encountered error while generating package metadata.\n",
            "\u001b[31m╰─>\u001b[0m See above for output.\n",
            "\n",
            "\u001b[1;35mnote\u001b[0m: This is an issue with the package mentioned above, not pip.\n",
            "\u001b[1;36mhint\u001b[0m: See above for details.\n"
          ]
        }
      ],
      "source": [
        "!pip install tensorflow-gpu"
      ]
    },
    {
      "cell_type": "code",
      "execution_count": null,
      "metadata": {
        "id": "XQcq7zJ4cgf_"
      },
      "outputs": [],
      "source": [
        "import tensorflow as tf"
      ]
    },
    {
      "cell_type": "code",
      "execution_count": null,
      "metadata": {
        "colab": {
          "base_uri": "https://localhost:8080/",
          "height": 35
        },
        "id": "IKzynmqddNBO",
        "outputId": "a9a901fc-605f-43b1-eb69-2e3e2baa0f4c"
      },
      "outputs": [
        {
          "output_type": "execute_result",
          "data": {
            "text/plain": [
              "'2.18.0'"
            ],
            "application/vnd.google.colaboratory.intrinsic+json": {
              "type": "string"
            }
          },
          "metadata": {},
          "execution_count": 3
        }
      ],
      "source": [
        "tf.__version__"
      ]
    },
    {
      "cell_type": "markdown",
      "metadata": {
        "id": "jwjZtrK7dUpw"
      },
      "source": [
        "###Constants in TF 2.x"
      ]
    },
    {
      "cell_type": "code",
      "source": [
        "tf.compat.v1.disable_eager_execution()"
      ],
      "metadata": {
        "id": "zIwr6yK48tB-"
      },
      "execution_count": null,
      "outputs": []
    },
    {
      "cell_type": "code",
      "source": [
        "a=tf.constant(5.0)"
      ],
      "metadata": {
        "id": "Uz-z25o46NgY"
      },
      "execution_count": null,
      "outputs": []
    },
    {
      "cell_type": "code",
      "source": [
        "b=tf.constant(4.0)"
      ],
      "metadata": {
        "id": "FHTYulvM6Sej"
      },
      "execution_count": null,
      "outputs": []
    },
    {
      "cell_type": "code",
      "source": [
        "c=a*b"
      ],
      "metadata": {
        "id": "9oSuF8Fz6V4q"
      },
      "execution_count": null,
      "outputs": []
    },
    {
      "cell_type": "code",
      "source": [
        "sess=tf.compat.v1.Session()"
      ],
      "metadata": {
        "id": "eQnoAxmt83lT"
      },
      "execution_count": null,
      "outputs": []
    },
    {
      "cell_type": "code",
      "source": [
        "print(sess.run(c))"
      ],
      "metadata": {
        "colab": {
          "base_uri": "https://localhost:8080/"
        },
        "id": "m8C8Fi3v6Yqj",
        "outputId": "cfd77d84-cec2-45f0-ef08-f3e9dd590a31"
      },
      "execution_count": null,
      "outputs": [
        {
          "output_type": "stream",
          "name": "stdout",
          "text": [
            "20.0\n"
          ]
        }
      ]
    },
    {
      "cell_type": "code",
      "source": [],
      "metadata": {
        "id": "qawPJlrEBzDH"
      },
      "execution_count": null,
      "outputs": []
    },
    {
      "cell_type": "markdown",
      "source": [
        "#Placeholders"
      ],
      "metadata": {
        "id": "2pFmw1nMBz4M"
      }
    },
    {
      "cell_type": "code",
      "source": [
        "#setup placeholder using tf.placeholder\n",
        "x = tf.compat.v1.placeholder(tf.int32, shape=[3],name='x')\n",
        "'''it is of type integer and it has shape 3 meaning it is a 1D vector with 3 elements in it\n",
        "we name it x. just create another placeholder y with same dimension. we treat the\n",
        "placeholders like we treate constants. '''\n",
        "y = tf.compat.v1.placeholder(tf.int32, shape=[3],name='y')\n",
        "sum_x = tf.reduce_sum(x,name=\"sum_x\")\n",
        "prod_y = tf.reduce_prod(y,name=\"prod_y\")\n",
        "'''we dont know what values x and y holds till we run the graph'''\n",
        "final_div = tf.compat.v1.div(sum_x,prod_y, name=\"final_div\")\n",
        "final_mean = tf.reduce_mean([sum_x, prod_y], name=\"final_mean\")\n",
        "sess = tf.compat.v1.Session()\n",
        "print (\"sum(x): \", sess.run(sum_x, feed_dict={x: [100,200,300]}))\n",
        "print (\"prod(y): \", sess.run(prod_y, feed_dict={y: [1,2,3]}))\n",
        "writer = tf.compat.v1.summary.FileWriter('./tensorflow_example',sess.graph)\n",
        "writer.close()\n",
        "sess.close()\n"
      ],
      "metadata": {
        "colab": {
          "base_uri": "https://localhost:8080/"
        },
        "id": "a2Zhu2SeB0T1",
        "outputId": "bb821fc1-df9a-448b-d55f-7a61293a8ee2"
      },
      "execution_count": null,
      "outputs": [
        {
          "output_type": "stream",
          "name": "stderr",
          "text": [
            "WARNING:tensorflow:From /usr/local/lib/python3.11/dist-packages/tensorflow/python/util/dispatch.py:1260: div (from tensorflow.python.ops.math_ops) is deprecated and will be removed in a future version.\n",
            "Instructions for updating:\n",
            "Deprecated in favor of operator or tf.math.divide.\n"
          ]
        },
        {
          "output_type": "stream",
          "name": "stdout",
          "text": [
            "sum(x):  600\n",
            "prod(y):  6\n"
          ]
        }
      ]
    },
    {
      "cell_type": "code",
      "source": [
        "https://towardsdatascience.com/understanding-fundamentals-of-tensorflow-program-and-why-it-is-necessary-94cf5b60e255"
      ],
      "metadata": {
        "colab": {
          "base_uri": "https://localhost:8080/",
          "height": 130
        },
        "id": "vSdze2LMCKRq",
        "outputId": "f3edb337-7add-4962-b7ed-49f420ca83d2"
      },
      "execution_count": null,
      "outputs": [
        {
          "output_type": "error",
          "ename": "SyntaxError",
          "evalue": "ignored",
          "traceback": [
            "\u001b[0;36m  File \u001b[0;32m\"<ipython-input-66-f52aeae9ec41>\"\u001b[0;36m, line \u001b[0;32m1\u001b[0m\n\u001b[0;31m    https://towardsdatascience.com/understanding-fundamentals-of-tensorflow-program-and-why-it-is-necessary-94cf5b60e255\u001b[0m\n\u001b[0m           ^\u001b[0m\n\u001b[0;31mSyntaxError\u001b[0m\u001b[0;31m:\u001b[0m invalid syntax\n"
          ]
        }
      ]
    },
    {
      "cell_type": "markdown",
      "source": [],
      "metadata": {
        "id": "khxahreqdTvw"
      }
    },
    {
      "cell_type": "markdown",
      "metadata": {
        "id": "UAE50vlcdasP"
      },
      "source": [
        "#### Variables"
      ]
    },
    {
      "cell_type": "code",
      "source": [
        "import tensorflow as tf\n",
        "W = tf.Variable([2.5,4.0],tf.float32, name='var_W')\n",
        "#here W is a Variable\n",
        "x = tf.compat.v1.placeholder(tf.float32, name='x')\n",
        "b = tf.Variable([5.0,10.0],tf.float32, name='var_b')\n",
        "#b is also a variable with initial value 5 and 10\n",
        "y = W * x + b\n",
        "#initialize all variables defined\n",
        "init = tf.compat.v1.global_variables_initializer()"
      ],
      "metadata": {
        "id": "63smygXn_ibY"
      },
      "execution_count": null,
      "outputs": []
    },
    {
      "cell_type": "code",
      "source": [
        "#global_variable_initializer() will declare all the variable we have initilized\n",
        "# use with statement to instantiate and assign a session\n",
        "with tf.compat.v1.Session() as sess:\n",
        " sess.run(init)\n",
        " #this computation is required to initialize the variable\n",
        " print(\"Final result: Wx + b = \", sess.run(y,feed_dict={x:[10,100]}))\n"
      ],
      "metadata": {
        "colab": {
          "base_uri": "https://localhost:8080/"
        },
        "id": "cduwmBU3_1zd",
        "outputId": "5b359b9b-f4a6-432c-9ecc-7f4319cf62d2"
      },
      "execution_count": null,
      "outputs": [
        {
          "output_type": "stream",
          "name": "stdout",
          "text": [
            "Final result: Wx + b =  [ 30. 410.]\n"
          ]
        }
      ]
    },
    {
      "cell_type": "markdown",
      "source": [
        "#Graphs"
      ],
      "metadata": {
        "id": "pN0aJR_gBfGG"
      }
    },
    {
      "cell_type": "code",
      "source": [
        "import tensorflow as tf\n",
        "A = tf.constant([4], tf.int32, name='A')\n",
        "B = tf.constant([4], tf.int32, name='B')\n",
        "C = tf.constant([4], tf.int32, name='C')\n",
        "# Use tf.compat.v1.placeholder for compatibility with TensorFlow 1.x\n",
        "x = tf.compat.v1.placeholder(tf.int32, name='x')\n",
        "# y = Ax^2 + Bx + C\n",
        "Ax2_1 = tf.multiply(A, tf.pow(x,2), name=\"Ax2_1\")\n",
        "Bx = tf.multiply(A,x, name=\"Bx\")\n",
        "y1 = tf.add_n([Ax2_1, Bx, C], name='y1')\n",
        "# y = Ax^2 + Bx^2\n",
        "Ax2_2 = tf.multiply(A, tf.pow(x,2),name='Ax2_2')\n",
        "Bx2 = tf.multiply(B, tf.pow(x,2),name='Bx2')\n",
        "y2 = tf.add_n([Ax2_2,Bx2],name='y2')\n",
        "y = y1 + y2\n",
        "with tf.compat.v1.Session() as sess: # Use tf.compat.v1.Session for compatibility with TensorFlow 1.x\n",
        " print(sess.run(y, feed_dict={x:[10]}))\n",
        "writer = tf.compat.v1.summary.FileWriter('./named_scope',sess.graph) # Use tf.compat.v1.summary.FileWriter for compatibility with TensorFlow 1.x\n",
        "writer.close()\n"
      ],
      "metadata": {
        "id": "PIwyH5_qD5xd",
        "colab": {
          "base_uri": "https://localhost:8080/"
        },
        "outputId": "5097ad73-8703-4560-bd8d-b6ac7446debf"
      },
      "execution_count": null,
      "outputs": [
        {
          "output_type": "stream",
          "name": "stderr",
          "text": [
            "WARNING:tensorflow:Issue encountered when serializing trainable_variables.\n",
            "Type is unsupported, or the types of the items don't match field type in CollectionDef. Note this is a warning and probably safe to ignore.\n",
            "'DType' object cannot be interpreted as an integer\n",
            "WARNING:tensorflow:Issue encountered when serializing variables.\n",
            "Type is unsupported, or the types of the items don't match field type in CollectionDef. Note this is a warning and probably safe to ignore.\n",
            "'DType' object cannot be interpreted as an integer\n"
          ]
        },
        {
          "output_type": "stream",
          "name": "stdout",
          "text": [
            "[1244]\n"
          ]
        }
      ]
    },
    {
      "cell_type": "code",
      "source": [],
      "metadata": {
        "id": "AXMgZ4SRD8Lc"
      },
      "execution_count": null,
      "outputs": []
    },
    {
      "cell_type": "markdown",
      "source": [
        "import tensorflow as tf\n",
        "A = tf.constant([4], tf.int32, name='A')\n",
        "B = tf.constant([4], tf.int32, name='B')\n",
        "C = tf.constant([4], tf.int32, name='C')\n",
        "x = tf.placeholder(tf.int32, name='x')\n",
        "# y = Ax^2 + Bx + C\n",
        "Ax2_1 = tf.multiply(A, tf.pow(x,2), name=\"Ax2_1\")\n",
        "Bx = tf.multiply(A,x, name=\"Bx\")\n",
        "y1 = tf.add_n([Ax2_1, Bx, C], name='y1')\n",
        "# y = Ax^2 + Bx^2\n",
        "Ax2_2 = tf.multiply(A, tf.pow(x,2),name='Ax2_2')\n",
        "Bx2 = tf.multiply(B, tf.pow(x,2),name='Bx2')\n",
        "y2 = tf.add_n([Ax2_2,Bx2],name='y2')\n",
        "y = y1 + y2\n",
        "with tf.Session() as sess:\n",
        " print(sess.run(y, feed_dict={x:[10]}))\n",
        "writer = tf.summary.FileWriter('./named_scope',sess.graph)\n",
        " writer.close()\n"
      ],
      "metadata": {
        "id": "uor_EW01EA8j"
      }
    },
    {
      "cell_type": "code",
      "source": [
        "import tensorflow as tf\n",
        "A = tf.constant([4], tf.int32, name='A')\n",
        "B = tf.constant([4], tf.int32, name='B')\n",
        "C = tf.constant([4], tf.int32, name='C')\n",
        "# Use tf.compat.v1.placeholder for compatibility with TensorFlow 1.x\n",
        "x = tf.compat.v1.placeholder(tf.int32, name='x')\n",
        "# y = Ax^2 + Bx + C\n",
        "with tf.name_scope(\"Equation1\"):\n",
        "    Ax2_1 = tf.multiply(A, tf.pow(x, 2), name=\"Ax2_1\")\n",
        "    Bx = tf.multiply(A, x, name=\"Bx\")\n",
        "    y1 = tf.add_n([Ax2_1, Bx, C], name='y1')\n",
        "# y = Ax^2 + Bx^2\n",
        "with tf.name_scope(\"Equation2\"):\n",
        "    Ax2_2 = tf.multiply(A, tf.pow(x, 2), name='Ax2_2')\n",
        "    Bx2 = tf.multiply(B, tf.pow(x, 2), name='Bx2')\n",
        "    y2 = tf.add_n([Ax2_2, Bx2], name='y2')\n",
        "with tf.name_scope(\"final_sum\"):\n",
        "    y = y1 + y2\n",
        "# Use tf.compat.v1.Session for compatibility with TensorFlow 1.x\n",
        "with tf.compat.v1.Session() as sess:\n",
        "    print(sess.run(y, feed_dict={x: [10]}))\n",
        "# Use tf.compat.v1.summary.FileWriter for compatibility with TensorFlow 1.x\n",
        "writer = tf.compat.v1.summary.FileWriter('./named_scope', sess.graph)\n",
        "writer.close()"
      ],
      "metadata": {
        "id": "Z9r-ZgkhEQFl",
        "colab": {
          "base_uri": "https://localhost:8080/"
        },
        "outputId": "c426f33f-4801-4317-d7b2-20e27fe379c1"
      },
      "execution_count": null,
      "outputs": [
        {
          "output_type": "stream",
          "name": "stderr",
          "text": [
            "WARNING:tensorflow:Issue encountered when serializing trainable_variables.\n",
            "Type is unsupported, or the types of the items don't match field type in CollectionDef. Note this is a warning and probably safe to ignore.\n",
            "'DType' object cannot be interpreted as an integer\n",
            "WARNING:tensorflow:Issue encountered when serializing variables.\n",
            "Type is unsupported, or the types of the items don't match field type in CollectionDef. Note this is a warning and probably safe to ignore.\n",
            "'DType' object cannot be interpreted as an integer\n"
          ]
        },
        {
          "output_type": "stream",
          "name": "stdout",
          "text": [
            "[1244]\n"
          ]
        }
      ]
    },
    {
      "cell_type": "code",
      "source": [],
      "metadata": {
        "id": "mqKH90MqExN1"
      },
      "execution_count": null,
      "outputs": []
    }
  ],
  "metadata": {
    "colab": {
      "provenance": [],
      "include_colab_link": true
    },
    "kernelspec": {
      "display_name": "Python 3",
      "language": "python",
      "name": "python3"
    },
    "language_info": {
      "codemirror_mode": {
        "name": "ipython",
        "version": 3
      },
      "file_extension": ".py",
      "mimetype": "text/x-python",
      "name": "python",
      "nbconvert_exporter": "python",
      "pygments_lexer": "ipython3",
      "version": "3.7.0"
    }
  },
  "nbformat": 4,
  "nbformat_minor": 0
}